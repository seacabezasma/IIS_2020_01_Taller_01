{
  "nbformat": 4,
  "nbformat_minor": 0,
  "metadata": {
    "kernelspec": {
      "display_name": "Python 3",
      "language": "python",
      "name": "python3"
    },
    "language_info": {
      "codemirror_mode": {
        "name": "ipython",
        "version": 3
      },
      "file_extension": ".py",
      "mimetype": "text/x-python",
      "name": "python",
      "nbconvert_exporter": "python",
      "pygments_lexer": "ipython3",
      "version": "3.6.9"
    },
    "colab": {
      "name": "Taller 1.ipynb",
      "provenance": [],
      "include_colab_link": true
    }
  },
  "cells": [
    {
      "cell_type": "markdown",
      "metadata": {
        "id": "view-in-github",
        "colab_type": "text"
      },
      "source": [
        "<a href=\"https://colab.research.google.com/github/seacabezasma/IIS_2020_01_Taller_01/blob/develop-seacabezasma/Taller_1.ipynb\" target=\"_parent\"><img src=\"https://colab.research.google.com/assets/colab-badge.svg\" alt=\"Open In Colab\"/></a>"
      ]
    },
    {
      "cell_type": "markdown",
      "metadata": {
        "id": "369Zy63Yebld",
        "colab_type": "text"
      },
      "source": [
        "# Taller 1\n",
        "### [Introducción a los sistemas inteligentes 2020-1](https://fagonzalezo.github.io/iis-2020-1/)\n",
        "\n",
        "Integrantes del grupo (máximo 3):\n",
        "\n",
        "* Nombre_1 ID_1\n",
        "* Nombre_2 ID_2\n",
        "* Nombre_3 ID_3\n",
        "\n",
        "___________\n",
        "\n",
        "**Fecha límite de entrega**: _Lunes 13 de Abril_ antes de la medianoche \n",
        "Envios fuera de este plazo no se tendrán en cuenta.\n",
        "\n",
        "\n",
        "Cerciórese de reiniciar y correr el notebook en su totalidad antes de enviarlo. Verifique que todas las salidas se muestran de manera correcta.\n",
        "\n",
        "**Instrucciones de envío:**\n",
        "\n",
        "Este notebook debe enviarse a través del siguiente [File Request](https://www.dropbox.com/request/OapI3DaGbxdtWoUkpLiR) antes de la hora límite. El archivo debe nombrarse como  `isi-taller1-unalusername1-unalusername2-unalusername3.ipynb`, donde unalusername es el nombre de usuario asignado por la universidad (incluya los nombres de usuario de todos los miembros del grupo).\n",
        "\n",
        "___________\n",
        "\n",
        "## Cuadrado de Rubik (o Cubo de Rubik 2D)\n",
        "\n",
        "El *Cuadrado de Rubik* es un rompecabezas inspirado en el famoso cubo de Rubik. Consiste de un arreglo de 16 fichas organizadas en una matriz de $4\\times 4$ como se ilustra en la siguiente figura:\n",
        "\n",
        "<img src=\"https://raw.githubusercontent.com/fagonzalezo/iis-2018-2/master/rubik2D.png\" \n",
        "alt=\"Cuadrado de Rubik \" width=\"240\" height=\"180\" border=\"10\" />\n",
        "\n",
        "Los colores son ilustrativos, lo importante es el número en cada una de las fichas. Se pueden hacer 10 movimientos diferentes correspondientes a rotar las 4 fichas alrededor de cada uno de los puntos A, B, C, D y E en el sentido de las manecillas del reloj o en el sentido opuesto.\n",
        "\n",
        "Su objetivo es modelar el *Cuadrado de Rubik* como un problema de búsqueda y resolverlo usando diferentes algoritmos de búsqueda.\n",
        "\n",
        "_________\n"
      ]
    },
    {
      "cell_type": "markdown",
      "metadata": {
        "id": "cMu3BA2ceblf",
        "colab_type": "text"
      },
      "source": [
        "### 1. Cree una clase para modelar el problema del Cuadrado de Rubik"
      ]
    },
    {
      "cell_type": "markdown",
      "metadata": {
        "id": "KIoMV3Imeblh",
        "colab_type": "text"
      },
      "source": [
        "Un Cuadrado de Rubik debe representarse como una lista con valores enteros que representan cada una de las fichas.\n",
        "\n",
        "Por ejemplo un Cuadrado de Rubik resuelto debe verse así:\n",
        "\n",
        "```python\n",
        "[ 1,  2,  3,  4,\n",
        "  5,  6,  7,  8,\n",
        "  9, 10, 11, 12,\n",
        " 13, 14, 15, 16]\n",
        "```"
      ]
    },
    {
      "cell_type": "markdown",
      "metadata": {
        "id": "tz4fk_bGeblj",
        "colab_type": "text"
      },
      "source": [
        "#### Definición de acciones\n",
        "\n",
        "La siguiente lista define las posibles acciones que se pueden ejecutar:"
      ]
    },
    {
      "cell_type": "code",
      "metadata": {
        "id": "vnstWJUpeblk",
        "colab_type": "code",
        "colab": {}
      },
      "source": [
        "'''\n",
        "These values MUST not be changed.\n",
        "They represent the movements of the Rubik's Square.\n",
        "'''\n",
        "actions = [\"A+\", \"A-\", \"B+\", \"B-\", \"C+\", \"C-\", \"D+\", \"D-\", \"E+\", \"E-\"]"
      ],
      "execution_count": 0,
      "outputs": []
    },
    {
      "cell_type": "markdown",
      "metadata": {
        "id": "WrdyJh3ueblu",
        "colab_type": "text"
      },
      "source": [
        "Cada acción indica la posición y el sentido. Por ejemplo, `'C-'` rota la posición C en el sentido opuesto de las manecillas del reloj. Si aplicamos esta acción al estado solución se obtiene el estado:\n",
        "\n",
        "```python\n",
        "[ 1,  2,  3,  4,\n",
        "  5,  7, 11,  8,\n",
        "  9,  6, 10, 12,\n",
        " 13, 14, 15, 16]\n",
        "```\n",
        "\n",
        "Si sobre este estado, aplicamos la acción `'E+'` obtenemos:\n",
        "\n",
        "```python\n",
        "[ 1,  2,  3,  4,\n",
        "  5,  7, 11,  8,\n",
        "  9,  6, 15, 10,\n",
        " 13, 14, 16, 12]\n",
        "```"
      ]
    },
    {
      "cell_type": "markdown",
      "metadata": {
        "id": "K5e9pPyHeblu",
        "colab_type": "text"
      },
      "source": [
        "#### Clase Rubik2D_problem"
      ]
    },
    {
      "cell_type": "code",
      "metadata": {
        "id": "qbP_KBZ4eblw",
        "colab_type": "code",
        "colab": {}
      },
      "source": [
        "# This is the Problem class from AIMA, you don't have to modify it\n",
        "\n",
        "%matplotlib inline\n",
        "import matplotlib.pyplot as plt\n",
        "import random\n",
        "import heapq\n",
        "import math\n",
        "import sys\n",
        "from collections import defaultdict, deque, Counter\n",
        "from itertools import combinations\n",
        "\n",
        "class Problem(object):\n",
        "    \"\"\"The abstract class for a formal problem. A new domain subclasses this,\n",
        "    overriding `actions` and `results`, and perhaps other methods.\n",
        "    The default heuristic is 0 and the default action cost is 1 for all states.\n",
        "    When yiou create an instance of a subclass, specify `initial`, and `goal` states \n",
        "    (or give an `is_goal` method) and perhaps other keyword args for the subclass.\"\"\"\n",
        "\n",
        "    def __init__(self, initial=None, goal=None, **kwds): \n",
        "        self.__dict__.update(initial=initial, goal=goal, **kwds) \n",
        "        \n",
        "    def actions(self, state):        raise NotImplementedError\n",
        "    def result(self, state, action): raise NotImplementedError\n",
        "    def is_goal(self, state):        return state == self.goal\n",
        "    def action_cost(self, s, a, s1): return 1\n",
        "    def h(self, node):               return 0\n",
        "    \n",
        "    def __str__(self):\n",
        "        return '{}({!r}, {!r})'.format(\n",
        "            type(self).__name__, self.initial, self.goal)\n",
        "\n",
        "class Node:\n",
        "    \"A Node in a search tree.\"\n",
        "    def __init__(self, state, parent=None, action=None, path_cost=0):\n",
        "        self.__dict__.update(state=state, parent=parent, action=action, path_cost=path_cost)\n",
        "\n",
        "    def __repr__(self): return '<{}>'.format(self.state)\n",
        "    def __len__(self): return 0 if self.parent is None else (1 + len(self.parent))\n",
        "    def __lt__(self, other): return self.path_cost < other.path_cost\n",
        "    \n",
        "    \n",
        "failure = Node('failure', path_cost=math.inf) # Indicates an algorithm couldn't find a solution.\n",
        "cutoff  = Node('cutoff',  path_cost=math.inf) # Indicates iterative deepening search was cut off.\n",
        "    \n",
        "    \n",
        "def expand(problem, node):\n",
        "    \"Expand a node, generating the children nodes.\"\n",
        "    s = node.state\n",
        "    for action in problem.actions(s):\n",
        "        s1 = problem.result(s, action)\n",
        "        cost = node.path_cost + problem.action_cost(s, action, s1)\n",
        "        yield Node(s1, node, action, cost)\n",
        "        \n",
        "\n",
        "def path_actions(node):\n",
        "    \"The sequence of actions to get to this node.\"\n",
        "    if node.parent is None:\n",
        "        return []  \n",
        "    return path_actions(node.parent) + [node.action]\n",
        "\n",
        "\n",
        "def path_states(node):\n",
        "    \"The sequence of states to get to this node.\"\n",
        "    if node in (cutoff, failure, None): \n",
        "        return []\n",
        "    return path_states(node.parent) + [node.state]\n",
        "\n",
        "    \n",
        "class rubik2d_problem(Problem):    \n",
        "    \n",
        "    def __init__(self, initial):\n",
        "        '''\n",
        "        Store the initial state in the problem representation and any useful\n",
        "        data.\n",
        "        Here are some examples of initial states:\n",
        "        [1, 2, 7, 3, 5, 9, 6, 4, 13, 11, 12, 16, 14, 10, 8, 15]\n",
        "        [1, 9, 4, 8, 5, 6, 3, 2, 15, 10, 11, 12, 13, 14, 7, 16]\n",
        "        [2, 7, 4, 8, 1, 5, 3, 11, 14, 13, 15, 10, 6, 9, 16, 12]\n",
        "        '''\n",
        "        self.expanded = 0\n",
        "        self.initial, self.goal = initial, sorted(initial)\n",
        "        \n",
        "    \n",
        "    def actions(self, state):\n",
        "        \"\"\"Return a list of actions that can be executed in the given\n",
        "        state.\"\"\"\n",
        "        return [\"A+\", \"A-\", \"B+\", \"B-\", \"C+\", \"C-\", \"D+\", \"D-\", \"E+\", \"E-\"]\n",
        "\n",
        "    def result(self, state, action):\n",
        "        \"\"\"\n",
        "        Return the state that results from executing the given\n",
        "        action at the given state. The action must be one of\n",
        "        self.actions(state).\n",
        "        \"\"\"\n",
        "        # Your code here\n",
        "        if action == \"A+\":\n",
        "          rotation = [state [0], state[1], state[4], state[5]]\n",
        "          state[0] = rotation[2]\n",
        "          state[1] = rotation[0]\n",
        "          state[4] = rotation[3]\n",
        "          state[5] = rotation[1]\n",
        "\n",
        "        if action == \"A-\":\n",
        "          rotation = [state [0], state[1], state[4], state[5]]\n",
        "          state[0] = rotation[1]\n",
        "          state[1] = rotation[3]\n",
        "          state[4] = rotation[0]\n",
        "          state[5] = rotation[2]\n",
        "\n",
        "        if action == \"B+\":\n",
        "          rotation = [state [2], state[3], state[6], state[7]]\n",
        "          state[2] = rotation[2]\n",
        "          state[3] = rotation[0]\n",
        "          state[6] = rotation[3]\n",
        "          state[7] = rotation[1]\n",
        "\n",
        "        if action == \"B-\":\n",
        "          rotation = [state [2], state[3], state[6], state[7]]\n",
        "          state[2] = rotation[1]\n",
        "          state[3] = rotation[3]\n",
        "          state[6] = rotation[0]\n",
        "          state[7] = rotation[2]\n",
        "\n",
        "        if action == \"C+\":\n",
        "          rotation = [state [5], state[6], state[9], state[10]]\n",
        "          state[5] = rotation[2]\n",
        "          state[6] = rotation[0]\n",
        "          state[9] = rotation[3]\n",
        "          state[10] = rotation[1]\n",
        "\n",
        "        if action == \"C-\":\n",
        "          rotation = [state [5], state[6], state[9], state[10]]\n",
        "          state[5] = rotation[1]\n",
        "          state[6] = rotation[3]\n",
        "          state[9] = rotation[0]\n",
        "          state[10] = rotation[2]\n",
        "\n",
        "        if action == \"D+\":\n",
        "          rotation = [state [8], state[9], state[12], state[13]]\n",
        "          state[8] = rotation[2]\n",
        "          state[9] = rotation[0]\n",
        "          state[12] = rotation[3]\n",
        "          state[13] = rotation[1]\n",
        "\n",
        "        if action == \"D-\":\n",
        "          rotation = [state [8], state[9], state[12], state[13]]\n",
        "          state[8] = rotation[1]\n",
        "          state[9] = rotation[3]\n",
        "          state[12] = rotation[0]\n",
        "          state[13] = rotation[2]\n",
        "\n",
        "        if action == \"E+\":\n",
        "          rotation = [state [10], state[11], state[14], state[15]]\n",
        "          state[10] = rotation[2]\n",
        "          state[11] = rotation[0]\n",
        "          state[14] = rotation[3]\n",
        "          state[15] = rotation[1]\n",
        "\n",
        "        if action == \"E-\":\n",
        "          rotation = [state [10], state[11], state[14], state[15]]\n",
        "          state[10] = rotation[1]\n",
        "          state[11] = rotation[3]\n",
        "          state[14] = rotation[0]\n",
        "          state[15] = rotation[2]\n",
        "\n",
        "        return state[:]\n",
        "\n",
        "    def is_goal(self, state):\n",
        "        '''\n",
        "        Define when a given state is a goal state (A correctly colored masterball)\n",
        "        '''\n",
        "        # Your code here\n",
        "        return state == self.goal\n",
        "\n",
        "\n",
        "    def action_cost(self, s, a, s1): \n",
        "        \"\"\"\n",
        "        Return the cost of a solution path that arrives at s1 from\n",
        "        state s via action a.\n",
        "        \"\"\"\n",
        "        # Your code here\n",
        "        return 0\n",
        "\n"
      ],
      "execution_count": 0,
      "outputs": []
    },
    {
      "cell_type": "markdown",
      "metadata": {
        "id": "OQZ94Sq7ebl2",
        "colab_type": "text"
      },
      "source": [
        "### 2. Evalue su código con diferentes estrategias de búsqueda\n",
        "\n"
      ]
    },
    {
      "cell_type": "code",
      "metadata": {
        "id": "fDHXsUUTebl3",
        "colab_type": "code",
        "outputId": "de4f2566-86cd-43f2-a27e-2e76e90bf467",
        "colab": {
          "base_uri": "https://localhost:8080/",
          "height": 204
        }
      },
      "source": [
        "FIFOQueue = deque\n",
        "\n",
        "LIFOQueue = list\n",
        "\n",
        "class PriorityQueue:\n",
        "    \"\"\"A queue in which the item with minimum f(item) is always popped first.\"\"\"\n",
        "\n",
        "    def __init__(self, items=(), key=lambda x: x): \n",
        "        self.key = key\n",
        "        self.items = [] # a heap of (score, item) pairs\n",
        "        for item in items:\n",
        "            self.add(item)\n",
        "         \n",
        "    def add(self, item):\n",
        "        \"\"\"Add item to the queuez.\"\"\"\n",
        "        pair = (self.key(item), item)\n",
        "        heapq.heappush(self.items, pair)\n",
        "\n",
        "    def pop(self):\n",
        "        \"\"\"Pop and return the item with min f(item) value.\"\"\"\n",
        "        return heapq.heappop(self.items)[1]\n",
        "    \n",
        "    def top(self): return self.items[0][1]\n",
        "\n",
        "    def __len__(self): return len(self.items)\n",
        "\n",
        "def best_first_search(problem, f):\n",
        "    \"Search nodes with minimum f(node) value first.\"\n",
        "    node = Node(problem.initial)\n",
        "    frontier = PriorityQueue([node], key=f)\n",
        "    reached = {}\n",
        "    reached[tuple(problem.initial)] = node\n",
        "    while frontier:\n",
        "        node = frontier.pop()\n",
        "        if problem.is_goal(node.state):\n",
        "            return node\n",
        "        for child in expand(problem, node):\n",
        "            s = child.state\n",
        "            if tuple(s) not in reached or child.path_cost < reached[tuple(s)].path_cost:\n",
        "                reached[tuple(s)] = child\n",
        "                frontier.add(child)\n",
        "    return failure\n",
        "\n",
        "\n",
        "def is_cycle(node, k=30):\n",
        "    \"Does this node form a cycle of length k or less?\"\n",
        "    def find_cycle(ancestor, k):\n",
        "        return (ancestor is not None and k > 0 and\n",
        "                (ancestor.state == node.state or find_cycle(ancestor.parent, k - 1)))\n",
        "    return find_cycle(node.parent, k)\n",
        "\n",
        "def breadth_first_search(problem):\n",
        "    \"Search shallowest nodes in the search tree first.\"\n",
        "    node = Node(problem.initial)\n",
        "    if problem.is_goal(problem.initial):\n",
        "        return node\n",
        "    frontier = FIFOQueue([node])\n",
        "    reached = {tuple(problem.initial)}\n",
        "    while frontier:\n",
        "        node = frontier.pop()\n",
        "        for child in expand(problem, node):\n",
        "            s = child.state\n",
        "            if problem.is_goal(s):\n",
        "                return child\n",
        "            if tuple(s) not in reached:\n",
        "                reached.add(tuple(s))\n",
        "                frontier.appendleft(child)\n",
        "    return failure\n",
        "\n",
        "def depth_limited_search(problem, limit=10):\n",
        "    \"Search deepest nodes in the search tree first.\"\n",
        "    frontier = LIFOQueue([Node(problem.initial)])\n",
        "    result = failure\n",
        "    while frontier:\n",
        "        node = frontier.pop()\n",
        "        if problem.is_goal(node.state):\n",
        "            return node\n",
        "        elif len(node) >= limit:\n",
        "            result = cutoff\n",
        "        elif not is_cycle(node):\n",
        "            for child in expand(problem, node):\n",
        "                frontier.append(child)\n",
        "    return result\n",
        "\n",
        "def iterative_deepening_search(problem):\n",
        "    \"Do depth-limited search with increasing depth limits.\"\n",
        "    for limit in range(1, sys.maxsize):\n",
        "        result = depth_limited_search(problem, limit)\n",
        "        if result != cutoff:\n",
        "            return result\n",
        "\n",
        "def bfs(problem):\n",
        "    \"Search shallowest nodes in the search tree first; using best-first.\"\n",
        "    return best_first_search(problem, f=len)\n",
        "    #return breadth_first_search(problem)\n",
        "\n",
        "def iterativeDeepeningSearch(problem):\n",
        "    ### your code here ###\n",
        "    return iterative_deepening_search(problem)\n",
        "\n",
        "problem = rubik2d_problem( [1, 2, 7, 3, 5, 9, 6, 4, 13, 11, 12, 16, 14, 10, 8, 15])\n",
        "\n",
        "#actions = path_states(bfs(problem))\n",
        "#for act in actions:\n",
        "#  print(act)\n",
        "\n",
        "actions = path_states(iterativeDeepeningSearch(problem))\n",
        "for act in actions:\n",
        "  print(act)\n",
        "\n"
      ],
      "execution_count": 40,
      "outputs": [
        {
          "output_type": "stream",
          "text": [
            "[1, 2, 7, 3, 5, 9, 6, 4, 13, 11, 12, 16, 14, 10, 8, 15]\n",
            "[1, 2, 7, 3, 5, 9, 6, 4, 13, 11, 8, 12, 14, 10, 15, 16]\n",
            "[1, 2, 7, 3, 5, 11, 9, 4, 13, 8, 6, 12, 14, 10, 15, 16]\n",
            "[1, 2, 7, 3, 5, 8, 11, 4, 13, 6, 9, 12, 14, 10, 15, 16]\n",
            "[1, 2, 7, 3, 5, 6, 8, 4, 13, 9, 11, 12, 14, 10, 15, 16]\n",
            "[1, 2, 7, 3, 5, 6, 8, 4, 14, 13, 11, 12, 10, 9, 15, 16]\n",
            "[1, 2, 7, 3, 5, 6, 8, 4, 10, 14, 11, 12, 9, 13, 15, 16]\n",
            "[1, 2, 7, 3, 5, 6, 8, 4, 9, 10, 11, 12, 13, 14, 15, 16]\n",
            "[1, 2, 8, 7, 5, 6, 4, 3, 9, 10, 11, 12, 13, 14, 15, 16]\n",
            "[1, 2, 4, 8, 5, 6, 3, 7, 9, 10, 11, 12, 13, 14, 15, 16]\n",
            "[1, 2, 3, 4, 5, 6, 7, 8, 9, 10, 11, 12, 13, 14, 15, 16]\n"
          ],
          "name": "stdout"
        }
      ]
    },
    {
      "cell_type": "markdown",
      "metadata": {
        "id": "wNjLpeGcebl9",
        "colab_type": "text"
      },
      "source": [
        "Evaluelo para ver cuál es la máxima profundidad que se puede alcanzar en un tiempo razonable con cada estrategia de búsqueda. Reporte los resultados."
      ]
    },
    {
      "cell_type": "markdown",
      "metadata": {
        "id": "wbPp0Sy8ebl-",
        "colab_type": "text"
      },
      "source": [
        "### 3. Implemente diferente heurísticas para el problema"
      ]
    },
    {
      "cell_type": "markdown",
      "metadata": {
        "collapsed": true,
        "id": "jxHUhCveebl-",
        "colab_type": "text"
      },
      "source": [
        "Implemente al menos dos heurísticas admisibles y consistentes. Compare A * usando la heurística contra IDS calculando el número de nodos expandidos y el factor de ramificación efectivo, de la misma forma como se hace en la figura 3.29 de [Russell10]."
      ]
    },
    {
      "cell_type": "code",
      "metadata": {
        "id": "i0g10Fxbebl_",
        "colab_type": "code",
        "colab": {}
      },
      "source": [
        "def nullHeuristic(state):\n",
        "    return 0\n",
        "\n",
        "def myHeuristic(state):\n",
        "    ### your code here ###\n",
        "    return 0\n",
        "\n",
        "def aStarSearch(problem, h=nullHeuristic):\n",
        "    ### your code here ###\n",
        "    return []\n",
        "\n"
      ],
      "execution_count": 0,
      "outputs": []
    },
    {
      "cell_type": "code",
      "metadata": {
        "id": "IwyK-KeJebmC",
        "colab_type": "code",
        "outputId": "953c9001-0c75-4495-ecf0-0d93c9127e0d",
        "colab": {}
      },
      "source": [
        "problem = rubik2d_problem([2, 7, 4, 8, 1, 5, 3, 11, 14, 13, 15, 10, 6, 9, 16, 12])\n",
        "\n",
        "print(iterativeDeepeningSearch(problem))\n",
        "print(aStarSearch(problem, myHeuristic))"
      ],
      "execution_count": 0,
      "outputs": [
        {
          "output_type": "stream",
          "text": [
            "[]\n",
            "[]\n"
          ],
          "name": "stdout"
        }
      ]
    }
  ]
}