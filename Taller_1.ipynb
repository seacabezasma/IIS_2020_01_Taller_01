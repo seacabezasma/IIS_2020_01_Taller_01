{
  "nbformat": 4,
  "nbformat_minor": 0,
  "metadata": {
    "kernelspec": {
      "display_name": "Python 3",
      "language": "python",
      "name": "python3"
    },
    "language_info": {
      "codemirror_mode": {
        "name": "ipython",
        "version": 3
      },
      "file_extension": ".py",
      "mimetype": "text/x-python",
      "name": "python",
      "nbconvert_exporter": "python",
      "pygments_lexer": "ipython3",
      "version": "3.6.9"
    },
    "colab": {
      "name": "Taller 1.ipynb",
      "provenance": [],
      "include_colab_link": true
    }
  },
  "cells": [
    {
      "cell_type": "markdown",
      "metadata": {
        "id": "view-in-github",
        "colab_type": "text"
      },
      "source": [
        "<a href=\"https://colab.research.google.com/github/seacabezasma/IIS_2020_01_Taller_01/blob/master/Taller_1.ipynb\" target=\"_parent\"><img src=\"https://colab.research.google.com/assets/colab-badge.svg\" alt=\"Open In Colab\"/></a>"
      ]
    },
    {
      "cell_type": "markdown",
      "metadata": {
        "id": "369Zy63Yebld",
        "colab_type": "text"
      },
      "source": [
        "# Taller 1\n",
        "### [Introducción a los sistemas inteligentes 2020-1](https://fagonzalezo.github.io/iis-2020-1/)\n",
        "\n",
        "Integrantes del grupo (máximo 3):\n",
        "\n",
        "* Nombre_1 ID_1\n",
        "* Nombre_2 ID_2\n",
        "* Nombre_3 ID_3\n",
        "\n",
        "___________\n",
        "\n",
        "**Fecha límite de entrega**: _Lunes 13 de Abril_ antes de la medianoche \n",
        "Envios fuera de este plazo no se tendrán en cuenta.\n",
        "\n",
        "\n",
        "Cerciórese de reiniciar y correr el notebook en su totalidad antes de enviarlo. Verifique que todas las salidas se muestran de manera correcta.\n",
        "\n",
        "**Instrucciones de envío:**\n",
        "\n",
        "Este notebook debe enviarse a través del siguiente [File Request](https://www.dropbox.com/request/OapI3DaGbxdtWoUkpLiR) antes de la hora límite. El archivo debe nombrarse como  `isi-taller1-unalusername1-unalusername2-unalusername3.ipynb`, donde unalusername es el nombre de usuario asignado por la universidad (incluya los nombres de usuario de todos los miembros del grupo).\n",
        "\n",
        "___________\n",
        "\n",
        "## Cuadrado de Rubik (o Cubo de Rubik 2D)\n",
        "\n",
        "El *Cuadrado de Rubik* es un rompecabezas inspirado en el famoso cubo de Rubik. Consiste de un arreglo de 16 fichas organizadas en una matriz de $4\\times 4$ como se ilustra en la siguiente figura:\n",
        "\n",
        "<img src=\"https://raw.githubusercontent.com/fagonzalezo/iis-2018-2/master/rubik2D.png\" \n",
        "alt=\"Cuadrado de Rubik \" width=\"240\" height=\"180\" border=\"10\" />\n",
        "\n",
        "Los colores son ilustrativos, lo importante es el número en cada una de las fichas. Se pueden hacer 10 movimientos diferentes correspondientes a rotar las 4 fichas alrededor de cada uno de los puntos A, B, C, D y E en el sentido de las manecillas del reloj o en el sentido opuesto.\n",
        "\n",
        "Su objetivo es modelar el *Cuadrado de Rubik* como un problema de búsqueda y resolverlo usando diferentes algoritmos de búsqueda.\n",
        "\n",
        "_________\n"
      ]
    },
    {
      "cell_type": "markdown",
      "metadata": {
        "id": "cMu3BA2ceblf",
        "colab_type": "text"
      },
      "source": [
        "### 1. Cree una clase para modelar el problema del Cuadrado de Rubik"
      ]
    },
    {
      "cell_type": "markdown",
      "metadata": {
        "id": "KIoMV3Imeblh",
        "colab_type": "text"
      },
      "source": [
        "Un Cuadrado de Rubik debe representarse como una lista con valores enteros que representan cada una de las fichas.\n",
        "\n",
        "Por ejemplo un Cuadrado de Rubik resuelto debe verse así:\n",
        "\n",
        "```python\n",
        "[ 1,  2,  3,  4,\n",
        "  5,  6,  7,  8,\n",
        "  9, 10, 11, 12,\n",
        " 13, 14, 15, 16]\n",
        "```"
      ]
    },
    {
      "cell_type": "markdown",
      "metadata": {
        "id": "tz4fk_bGeblj",
        "colab_type": "text"
      },
      "source": [
        "#### Definición de acciones\n",
        "\n",
        "La siguiente lista define las posibles acciones que se pueden ejecutar:"
      ]
    },
    {
      "cell_type": "code",
      "metadata": {
        "id": "vnstWJUpeblk",
        "colab_type": "code",
        "colab": {}
      },
      "source": [
        "'''\n",
        "These values MUST not be changed.\n",
        "They represent the movements of the Rubik's Square.\n",
        "'''\n",
        "actions = [\"A+\", \"A-\", \"B+\", \"B-\", \"C+\", \"C-\", \"D+\", \"D-\", \"E+\", \"E-\"]"
      ],
      "execution_count": 0,
      "outputs": []
    },
    {
      "cell_type": "markdown",
      "metadata": {
        "id": "WrdyJh3ueblu",
        "colab_type": "text"
      },
      "source": [
        "Cada acción indica la posición y el sentido. Por ejemplo, `'C-'` rota la posición C en el sentido opuesto de las manecillas del reloj. Si aplicamos esta acción al estado solución se obtiene el estado:\n",
        "\n",
        "```python\n",
        "[ 1,  2,  3,  4,\n",
        "  5,  7, 11,  8,\n",
        "  9,  6, 10, 12,\n",
        " 13, 14, 15, 16]\n",
        "```\n",
        "\n",
        "Si sobre este estado, aplicamos la acción `'E+'` obtenemos:\n",
        "\n",
        "```python\n",
        "[ 1,  2,  3,  4,\n",
        "  5,  7, 11,  8,\n",
        "  9,  6, 15, 10,\n",
        " 13, 14, 16, 12]\n",
        "```"
      ]
    },
    {
      "cell_type": "markdown",
      "metadata": {
        "id": "K5e9pPyHeblu",
        "colab_type": "text"
      },
      "source": [
        "#### Clase Rubik2D_problem"
      ]
    },
    {
      "cell_type": "code",
      "metadata": {
        "id": "qbP_KBZ4eblw",
        "colab_type": "code",
        "colab": {}
      },
      "source": [
        "# This is the Problem class from AIMA, you don't have to modify it\n",
        "\n",
        "class Problem(object):\n",
        "    \"\"\"The abstract class for a formal problem. A new domain subclasses this,\n",
        "    overriding `actions` and `results`, and perhaps other methods.\n",
        "    The default heuristic is 0 and the default action cost is 1 for all states.\n",
        "    When yiou create an instance of a subclass, specify `initial`, and `goal` states \n",
        "    (or give an `is_goal` method) and perhaps other keyword args for the subclass.\"\"\"\n",
        "\n",
        "    def __init__(self, initial=None, goal=None, **kwds): \n",
        "        self.__dict__.update(initial=initial, goal=goal, **kwds) \n",
        "        \n",
        "    def actions(self, state):        raise NotImplementedError\n",
        "    def result(self, state, action): raise NotImplementedError\n",
        "    def is_goal(self, state):        return state == self.goal\n",
        "    def action_cost(self, s, a, s1): return 1\n",
        "    def h(self, node):               return 0\n",
        "    \n",
        "    def __str__(self):\n",
        "        return '{}({!r}, {!r})'.format(\n",
        "            type(self).__name__, self.initial, self.goal)\n",
        "\n",
        "    \n",
        "class rubik2d_problem(Problem):    \n",
        "    \n",
        "    def __init__(self, initial):\n",
        "        '''\n",
        "        Store the initial state in the problem representation and any useful\n",
        "        data.\n",
        "        Here are some examples of initial states:\n",
        "        [1, 2, 7, 3, 5, 9, 6, 4, 13, 11, 12, 16, 14, 10, 8, 15]\n",
        "        [1, 9, 4, 8, 5, 6, 3, 2, 15, 10, 11, 12, 13, 14, 7, 16]\n",
        "        [2, 7, 4, 8, 1, 5, 3, 11, 14, 13, 15, 10, 6, 9, 16, 12]\n",
        "        '''\n",
        "        self.expanded = 0\n",
        "        # Your code here\n",
        "        pass\n",
        "    \n",
        "    def actions(self, state):\n",
        "        \"\"\"Return a list of actions that can be executed in the given\n",
        "        state.\"\"\"\n",
        "        # Your code here\n",
        "        pass\n",
        "\n",
        "    def result(self, state, action):\n",
        "        \"\"\"\n",
        "        Return the state that results from executing the given\n",
        "        action at the given state. The action must be one of\n",
        "        self.actions(state).\n",
        "        \"\"\"\n",
        "        # Your code here\n",
        "        pass\n",
        "\n",
        "    def is_goal(self, state):\n",
        "        '''\n",
        "        Define when a given state is a goal state (A correctly colored masterball)\n",
        "        '''\n",
        "        # Your code here\n",
        "        pass\n",
        "\n",
        "\n",
        "    def action_cost(self, s, a, s1): \n",
        "        \"\"\"\n",
        "        Return the cost of a solution path that arrives at s1 from\n",
        "        state s via action a.\n",
        "        \"\"\"\n",
        "        # Your code here\n",
        "        pass\n",
        "\n",
        "#==============================================================\n",
        "# PRUEBA MOVIMIENTOS\n",
        "rubik = [1, 2, 3, 4, 5, 6, 7, 8, 9, 10, 11, 12, 13, 14, 15, 16]\n",
        "\n",
        "def rotar(cubo_original, cubo_copia, movimiento):\n",
        "    \n",
        "    #===============================\n",
        "    # GIRA EN TORNO A \n",
        "    if movimiento == 'A+':\n",
        "        cubo_original[0]=cubo_copia[4]\n",
        "        cubo_original[1]=cubo_copia[0]\n",
        "        cubo_original[4]=cubo_copia[5]\n",
        "        cubo_original[5]=cubo_copia[1]\n",
        "        \n",
        "    elif movimiento == 'A-':        \n",
        "        cubo_original[0]=cubo_copia[1]        \n",
        "        cubo_original[1]=cubo_copia[5]\n",
        "        cubo_original[4]=cubo_copia[0]\n",
        "        cubo_original[5]=cubo_copia[4]\n",
        "    \n",
        "        \n",
        "    #===============================\n",
        "    # GIRA EN TORNO B\n",
        "    elif movimiento == 'B+':\n",
        "        cubo_original[2]=cubo_copia[6]\n",
        "        cubo_original[3]=cubo_copia[2]\n",
        "        cubo_original[6]=cubo_copia[7]\n",
        "        cubo_original[7]=cubo_copia[3]        \n",
        "        \n",
        "    elif movimiento == 'B-':\n",
        "        cubo_original[2]=cubo_copia[3]\n",
        "        cubo_original[3]=cubo_copia[7]\n",
        "        cubo_original[6]=cubo_copia[2]\n",
        "        cubo_original[7]=cubo_copia[6]\n",
        "\n",
        "    #===============================\n",
        "    # GIRA EN TORNO C\n",
        "    elif movimiento == 'C+':\n",
        "        cubo_original[5]=cubo_copia[9]\n",
        "        cubo_original[6]=cubo_copia[5]\n",
        "        cubo_original[9]=cubo_copia[10]\n",
        "        cubo_original[10]=cubo_copia[6]        \n",
        "        \n",
        "    elif movimiento == 'C-':\n",
        "        cubo_original[5]=cubo_copia[6]\n",
        "        cubo_original[6]=cubo_copia[10]\n",
        "        cubo_original[9]=cubo_copia[5]\n",
        "        cubo_original[10]=cubo_copia[9]\n",
        "\n",
        "    #===============================\n",
        "    # GIRA EN TORNO D\n",
        "    elif movimiento == 'D+':\n",
        "        cubo_original[8]=cubo_copia[12]\n",
        "        cubo_original[9]=cubo_copia[8]\n",
        "        cubo_original[12]=cubo_copia[13]\n",
        "        cubo_original[13]=cubo_copia[9]        \n",
        "        \n",
        "    elif movimiento == 'D-':\n",
        "        cubo_original[8]=cubo_copia[9]\n",
        "        cubo_original[9]=cubo_copia[13]\n",
        "        cubo_original[12]=cubo_copia[8]\n",
        "        cubo_original[13]=cubo_copia[12]\n",
        "\n",
        "    #===============================\n",
        "    # GIRA EN TORNO E\n",
        "    elif movimiento == 'E+':\n",
        "        cubo_original[10]=cubo_copia[14]\n",
        "        cubo_original[11]=cubo_copia[10]\n",
        "        cubo_original[14]=cubo_copia[15]\n",
        "        cubo_original[15]=cubo_copia[11]        \n",
        "        \n",
        "    elif movimiento == 'E-':\n",
        "        cubo_original[10]=cubo_copia[11]\n",
        "        cubo_original[11]=cubo_copia[15]\n",
        "        cubo_original[14]=cubo_copia[10]\n",
        "        cubo_original[15]=cubo_copia[14]\n",
        "\n",
        "# ==================================================\n",
        "print(rubik)# el original\n",
        "rotar(rubik, rubik.copy(), 'C-')\n",
        "print(rubik)# como quedo\n",
        "rotar(rubik, rubik.copy(), 'E+')\n",
        "print(rubik)# como quedo\n",
        "#===================================================\n"
      ],
      "execution_count": 0,
      "outputs": []
    },
    {
      "cell_type": "markdown",
      "metadata": {
        "id": "OQZ94Sq7ebl2",
        "colab_type": "text"
      },
      "source": [
        "### 2. Evalue su código con diferentes estrategias de búsqueda\n",
        "\n"
      ]
    },
    {
      "cell_type": "code",
      "metadata": {
        "id": "fDHXsUUTebl3",
        "colab_type": "code",
        "outputId": "7f403469-7152-4e7a-d964-6d0910bbb7ea",
        "colab": {}
      },
      "source": [
        "def bfs(problem):\n",
        "    ### your code here ###\n",
        "    return []\n",
        "\n",
        "def iterativeDeepeningSearch(problem):\n",
        "    ### your code here ###\n",
        "    return []\n",
        "\n",
        "problem = rubik2d_problem( [1, 2, 7, 3, 5, 9, 6, 4, 13, 11, 12, 16, 14, 10, 8, 15])\n",
        "\n",
        "actions = bfs(problem)\n",
        "print(actions)\n",
        "actions = iterativeDeepeningSearch(problem)\n",
        "print(actions)\n",
        "\n"
      ],
      "execution_count": 0,
      "outputs": [
        {
          "output_type": "stream",
          "text": [
            "[]\n",
            "[]\n"
          ],
          "name": "stdout"
        }
      ]
    },
    {
      "cell_type": "markdown",
      "metadata": {
        "id": "wNjLpeGcebl9",
        "colab_type": "text"
      },
      "source": [
        "Evaluelo para ver cuál es la máxima profundidad que se puede alcanzar en un tiempo razonable con cada estrategia de búsqueda. Reporte los resultados."
      ]
    },
    {
      "cell_type": "markdown",
      "metadata": {
        "id": "wbPp0Sy8ebl-",
        "colab_type": "text"
      },
      "source": [
        "### 3. Implemente diferente heurísticas para el problema"
      ]
    },
    {
      "cell_type": "markdown",
      "metadata": {
        "collapsed": true,
        "id": "jxHUhCveebl-",
        "colab_type": "text"
      },
      "source": [
        "Implemente al menos dos heurísticas admisibles y consistentes. Compare A * usando la heurística contra IDS calculando el número de nodos expandidos y el factor de ramificación efectivo, de la misma forma como se hace en la figura 3.29 de [Russell10]."
      ]
    },
    {
      "cell_type": "code",
      "metadata": {
        "id": "i0g10Fxbebl_",
        "colab_type": "code",
        "colab": {}
      },
      "source": [
        "def nullHeuristic(state):\n",
        "    return 0\n",
        "\n",
        "def myHeuristic(state):\n",
        "    ### your code here ###\n",
        "    return 0\n",
        "\n",
        "def aStarSearch(problem, h=nullHeuristic):\n",
        "    ### your code here ###\n",
        "    return []\n",
        "\n"
      ],
      "execution_count": 0,
      "outputs": []
    },
    {
      "cell_type": "code",
      "metadata": {
        "id": "IwyK-KeJebmC",
        "colab_type": "code",
        "outputId": "953c9001-0c75-4495-ecf0-0d93c9127e0d",
        "colab": {}
      },
      "source": [
        "problem = rubik2d_problem([2, 7, 4, 8, 1, 5, 3, 11, 14, 13, 15, 10, 6, 9, 16, 12])\n",
        "\n",
        "print(iterativeDeepeningSearch(problem))\n",
        "print(aStarSearch(problem, myHeuristic))"
      ],
      "execution_count": 0,
      "outputs": [
        {
          "output_type": "stream",
          "text": [
            "[]\n",
            "[]\n"
          ],
          "name": "stdout"
        }
      ]
    }
  ]
}